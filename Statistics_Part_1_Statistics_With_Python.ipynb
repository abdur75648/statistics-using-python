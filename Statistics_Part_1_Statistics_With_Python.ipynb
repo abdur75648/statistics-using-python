{
  "nbformat": 4,
  "nbformat_minor": 0,
  "metadata": {
    "colab": {
      "provenance": [],
      "collapsed_sections": [
        "FdcDKEo8k7vf",
        "E6IQY8AUpVpb",
        "dgpbUl5HpJ5a",
        "hiX2aL0WrYyN",
        "VIHh4jQyvBWD",
        "OHK2ddcrUpKr",
        "e7kVe-rER63y",
        "lTYtwyElU5Jl",
        "rYlv0RH3V7dq",
        "LyHR_5IrV7d1",
        "FA3HlaDwV7d2",
        "zTuSIPDXaI0d",
        "N1r97AYvaI0q",
        "7ro_G8CKa3Ab",
        "9K8yLAU-cnwo",
        "4CN_y4Mfc_T1",
        "ZlXw_Q_CcdU0"
      ]
    },
    "kernelspec": {
      "name": "python3",
      "display_name": "Python 3"
    },
    "language_info": {
      "name": "python"
    }
  },
  "cells": [
    {
      "cell_type": "markdown",
      "source": [
        "# **Basic Statistics With Python**"
      ],
      "metadata": {
        "id": "ObBWEEN5AKnB"
      }
    },
    {
      "cell_type": "markdown",
      "source": [
        "# Imports"
      ],
      "metadata": {
        "id": "B2DsvrIlp4tf"
      }
    },
    {
      "cell_type": "code",
      "source": [
        "import numpy as np\n",
        "from scipy.stats import norm,t,chi2\n",
        "from statistics import mean, mode, median\n",
        "from statistics import stdev as sample_stdev, pstdev as population_stdev\n",
        "from statistics import variance as sample_variance, pvariance as population_variance"
      ],
      "metadata": {
        "id": "RCMA8Wu-p39U"
      },
      "execution_count": 1,
      "outputs": []
    },
    {
      "cell_type": "markdown",
      "source": [
        "# Measure_of_Center & Spread"
      ],
      "metadata": {
        "id": "FdcDKEo8k7vf"
      }
    },
    {
      "cell_type": "code",
      "source": [
        "a = [-1.0, 2.5, 3.25, 5.75]\n",
        "b = [0.0, 12.5, 14.5, 20.0]\n",
        "print(\"Mean is: \",mean(a))\n",
        "print(\"Mode is: \",mode(a))\n",
        "print(\"Median is: \",median(a))\n",
        "print(\"Range is: \",median(a))\n",
        "print(\"Sample Standard Deviation is: \",sample_stdev(a))\n",
        "print(\"Population Standard Deviation is: \",population_stdev(a))\n",
        "print(\"Sample Variance is: \",sample_variance(a))\n",
        "print(\"Population Variance is: \",population_variance(a))"
      ],
      "metadata": {
        "colab": {
          "base_uri": "https://localhost:8080/"
        },
        "id": "ZHTNKkjbo4Cq",
        "outputId": "58de7ff2-ac55-43cb-a65b-8da27273160d"
      },
      "execution_count": null,
      "outputs": [
        {
          "output_type": "stream",
          "name": "stdout",
          "text": [
            "Mean is:  2.625\n",
            "Mode is:  -1.0\n",
            "Median is:  2.875\n",
            "Sample Standard Deviation is:  2.787621447279622\n",
            "Population Standard Deviation is:  2.414150989478496\n",
            "Sample Variance is:  7.770833333333333\n",
            "Population Variance is:  5.828125\n"
          ]
        }
      ]
    },
    {
      "cell_type": "code",
      "source": [],
      "metadata": {
        "id": "lQgogm6Noypq"
      },
      "execution_count": null,
      "outputs": []
    },
    {
      "cell_type": "markdown",
      "source": [
        "# Quartiles"
      ],
      "metadata": {
        "id": "E6IQY8AUpVpb"
      }
    },
    {
      "cell_type": "code",
      "source": [
        "print(\"50 Percentile is : \",np.percentile(a,50))\n",
        "print(\"25 Percentile is : \",np.percentile(a,25))\n",
        "print(\"75 Percentile is : \",np.percentile(a,75))\n",
        "print(\"100 Percentile is : \",np.percentile(a,100))\n",
        "print(\"IQR is : \",np.percentile(a,75)-np.percentile(a,25))"
      ],
      "metadata": {
        "colab": {
          "base_uri": "https://localhost:8080/"
        },
        "id": "QZSf0Nw1pYL6",
        "outputId": "944d25f9-4ba6-4362-9830-09337f5b0428"
      },
      "execution_count": null,
      "outputs": [
        {
          "output_type": "stream",
          "name": "stdout",
          "text": [
            "50 Percentile is :  2.875\n",
            "25 Percentile is :  1.625\n",
            "75 Percentile is :  3.875\n",
            "100 Percentile is :  5.75\n",
            "IQR is :  2.25\n"
          ]
        }
      ]
    },
    {
      "cell_type": "code",
      "source": [],
      "metadata": {
        "id": "tuGBcIOzpm_j"
      },
      "execution_count": null,
      "outputs": []
    },
    {
      "cell_type": "markdown",
      "source": [
        "# Covariances & Correlations"
      ],
      "metadata": {
        "id": "dgpbUl5HpJ5a"
      }
    },
    {
      "cell_type": "code",
      "source": [
        "a = [-1.0, 2.5, 3.25, 5.75]\n",
        "b = [0.0, 12.5, 14.5, 20.0]\n",
        "print(\"Covariance Matrix is: \",np.cov(a,b))\n",
        "print(\"Correlation Matrix is: \",np.corrcoef(a,b))\n",
        "print(\"Covariance is: \",np.cov(a,b)[0][1])\n",
        "print(\"Correlation is: \",np.corrcoef(a,b)[0][1])"
      ],
      "metadata": {
        "colab": {
          "base_uri": "https://localhost:8080/"
        },
        "id": "XuZtVvNTpoQA",
        "outputId": "3e6c2a68-ab50-4e20-df25-c2fc55371b63"
      },
      "execution_count": null,
      "outputs": [
        {
          "output_type": "stream",
          "name": "stdout",
          "text": [
            "Covariance Matrix is:  [[ 7.77083333 23.33333333]\n",
            " [23.33333333 71.41666667]]\n",
            "Correlation Matrix is:  [[1.         0.99047427]\n",
            " [0.99047427 1.        ]]\n",
            "Covariance is:  23.333333333333332\n",
            "Correlation is:  0.9904742745252149\n"
          ]
        }
      ]
    },
    {
      "cell_type": "code",
      "source": [],
      "metadata": {
        "id": "gK9H1oq7p7Pq"
      },
      "execution_count": null,
      "outputs": []
    },
    {
      "cell_type": "markdown",
      "source": [
        "# Multidimensional Arrays"
      ],
      "metadata": {
        "id": "hiX2aL0WrYyN"
      }
    },
    {
      "cell_type": "code",
      "source": [
        "A=np.array([[10,14,11,7,9.5,15,19],\n",
        "            [8,9,17,14.5,12,18,15.5],\n",
        "            [15,7.5,11.5,10,10.5,7,11],\n",
        "            [11.5,11,9,12,14,12,7.5]])"
      ],
      "metadata": {
        "id": "tZECH9gRraXD"
      },
      "execution_count": null,
      "outputs": []
    },
    {
      "cell_type": "code",
      "source": [
        "# Range\n",
        "a=np.ptp(A, axis=0)\n",
        "b=np.ptp(A,axis=1)\n",
        "print(\"Range along axis 0:\",a)\n",
        "print(\"Range along axis 1:\",b)\n",
        "\n",
        "# Same for Standard deviation & Variance"
      ],
      "metadata": {
        "colab": {
          "base_uri": "https://localhost:8080/"
        },
        "id": "ieCZhKnar9A7",
        "outputId": "e68965c2-5b09-4e26-c7b5-c430a5e4fb5a"
      },
      "execution_count": null,
      "outputs": [
        {
          "output_type": "stream",
          "name": "stdout",
          "text": [
            "Range along axis 0: [ 7.   6.5  8.   7.5  4.5 11.  11.5]\n",
            "Range along axis 1: [12.  10.   8.   6.5]\n"
          ]
        }
      ]
    },
    {
      "cell_type": "code",
      "source": [
        "# Variance\n",
        "a = np.var(A,axis=0) # Population Var (ddof=0) # Sample Var (ddof=1)\n",
        "b = np.var(A,axis=1)\n",
        "print(a)\n",
        "print(b)"
      ],
      "metadata": {
        "colab": {
          "base_uri": "https://localhost:8080/"
        },
        "id": "zgaiJjaeuD0z",
        "outputId": "fd779be2-7652-4b99-bdeb-512c89394a6f"
      },
      "execution_count": null,
      "outputs": [
        {
          "output_type": "stream",
          "name": "stdout",
          "text": [
            "[ 6.546875  5.921875  8.796875  7.546875  2.875    16.5      19.0625  ]\n",
            "[13.98979592 12.8877551   6.12244898  3.92857143]\n"
          ]
        }
      ]
    },
    {
      "cell_type": "code",
      "source": [
        "# Quartile\n",
        "\n",
        "print(\"=\"*20,\"\\tAxis=0\\t\",\"=\"*20)\n",
        "## Axis = 0\n",
        "percentile25_axis_0 = np.percentile(A,25,axis=0)\n",
        "percentile50_axis_0 = np.percentile(A,50,axis=0)\n",
        "percentile75_axis_0 = np.percentile(A,75,axis=0)\n",
        "percentile100_axis_0 = np.percentile(A,100,axis=0)\n",
        "print(\"25 Percentile along axis = 0 is : \",percentile25_axis_0)\n",
        "print(\"50 Percentile along axis = 0 is : \",percentile50_axis_0)\n",
        "print(\"75 Percentile along axis = 0 is : \",percentile75_axis_0)\n",
        "print(\"100 Percentile along axis = 0 is : \",percentile100_axis_0)\n",
        "print(\"IQR along axis = 0 is : \",percentile75_axis_0 - percentile25_axis_0)\n",
        "\n",
        "print(\"\\n\",\"=\"*20,\"\\tAxis=1\\t\",\"=\"*20)\n",
        "## Axis = 0\n",
        "percentile25_axis_1 = np.percentile(A,25,axis=1)\n",
        "percentile50_axis_1 = np.percentile(A,50,axis=1)\n",
        "percentile75_axis_1 = np.percentile(A,75,axis=1)\n",
        "percentile100_axis_1 = np.percentile(A,100,axis=1)\n",
        "print(\"25 Percentile along axis = 1 is : \",percentile25_axis_1)\n",
        "print(\"50 Percentile along axis = 1 is : \",percentile50_axis_1)\n",
        "print(\"75 Percentile along axis = 1 is : \",percentile75_axis_1)\n",
        "print(\"100 Percentile along axis = 1 is : \",percentile100_axis_1)\n",
        "print(\"IQR along axis = 1 is : \",percentile75_axis_1 - percentile25_axis_1)"
      ],
      "metadata": {
        "colab": {
          "base_uri": "https://localhost:8080/"
        },
        "id": "PTY0D2CEsj7C",
        "outputId": "dc8cd409-31b0-4be7-cc6f-2e003cfb1cbe"
      },
      "execution_count": null,
      "outputs": [
        {
          "output_type": "stream",
          "name": "stdout",
          "text": [
            "==================== \tAxis=0\t ====================\n",
            "25 Percentile along axis = 0 is :  [ 9.5    8.625 10.5    9.25  10.25  10.75  10.125]\n",
            "50 Percentile along axis = 0 is :  [10.75 10.   11.25 11.   11.25 13.5  13.25]\n",
            "75 Percentile along axis = 0 is :  [12.375 11.75  12.875 12.625 12.5   15.75  16.375]\n",
            "100 Percentile along axis = 0 is :  [15.  14.  17.  14.5 14.  18.  19. ]\n",
            "IQR along axis = 0 is :  [2.875 3.125 2.375 3.375 2.25  5.    6.25 ]\n",
            "\n",
            " ==================== \tAxis=1\t ====================\n",
            "25 Percentile along axis = 1 is :  [ 9.75 10.5   8.75 10.  ]\n",
            "50 Percentile along axis = 1 is :  [11.  14.5 10.5 11.5]\n",
            "75 Percentile along axis = 1 is :  [14.5  16.25 11.25 12.  ]\n",
            "100 Percentile along axis = 1 is :  [19. 18. 15. 14.]\n",
            "IQR along axis = 1 is :  [4.75 5.75 2.5  2.  ]\n"
          ]
        }
      ]
    },
    {
      "cell_type": "code",
      "source": [],
      "metadata": {
        "id": "a19_Z6UFtWY_"
      },
      "execution_count": null,
      "outputs": []
    },
    {
      "cell_type": "markdown",
      "source": [
        "# Eigenvalues, Eigenvectors"
      ],
      "metadata": {
        "id": "VIHh4jQyvBWD"
      }
    },
    {
      "cell_type": "code",
      "source": [
        "from numpy.linalg import norm, det, inv, eig\n",
        "A = np.array([[1,2,3],[4,5,6],[7,8,9]])\n",
        "print(A)"
      ],
      "metadata": {
        "colab": {
          "base_uri": "https://localhost:8080/"
        },
        "id": "Nwfkrom5wqYe",
        "outputId": "54f14873-0d7e-4adf-a35b-5f986898c82d"
      },
      "execution_count": null,
      "outputs": [
        {
          "output_type": "stream",
          "name": "stdout",
          "text": [
            "[[1 2 3]\n",
            " [4 5 6]\n",
            " [7 8 9]]\n"
          ]
        }
      ]
    },
    {
      "cell_type": "code",
      "source": [
        "# Eig returns the eigenvalues array\n",
        "# And the normalized (unit \"length\") eigenvectors, such that the column ``v[:,i]`` is the eigenvector corresponding to the eigenvalue ``w[i]``\n",
        "\n",
        "w,v=eig(A)\n",
        "for i in range(len(w)):\n",
        "  print(w[i],v[:,i])"
      ],
      "metadata": {
        "colab": {
          "base_uri": "https://localhost:8080/"
        },
        "id": "EU8vC6O7wtBu",
        "outputId": "8bc45029-54bb-46af-cb4c-90eeed3e31d3"
      },
      "execution_count": null,
      "outputs": [
        {
          "output_type": "stream",
          "name": "stdout",
          "text": [
            "16.116843969807043 [-0.23197069 -0.52532209 -0.8186735 ]\n",
            "-1.1168439698070427 [-0.78583024 -0.08675134  0.61232756]\n",
            "-1.3036777264747022e-15 [ 0.40824829 -0.81649658  0.40824829]\n"
          ]
        }
      ]
    },
    {
      "cell_type": "code",
      "source": [],
      "metadata": {
        "id": "WeoLYPZ8wxS2"
      },
      "execution_count": null,
      "outputs": []
    },
    {
      "cell_type": "markdown",
      "source": [
        "# Confidence Intervals For A Normal Distribution"
      ],
      "metadata": {
        "id": "qMNV04tIRzCs"
      }
    },
    {
      "cell_type": "markdown",
      "source": [
        "## Confidence Interval for the Mean of a Normal Population:"
      ],
      "metadata": {
        "id": "uShiaj2zUh-g"
      }
    },
    {
      "cell_type": "code",
      "source": [
        "# Imports\n",
        "import numpy as np\n",
        "from scipy.stats import norm,t,chi2"
      ],
      "metadata": {
        "id": "Jv5_EcsgZ6SU"
      },
      "execution_count": null,
      "outputs": []
    },
    {
      "cell_type": "markdown",
      "source": [
        "### Theory: Known Population Variance"
      ],
      "metadata": {
        "id": "OHK2ddcrUpKr"
      }
    },
    {
      "cell_type": "markdown",
      "source": [
        "**A. Two-sided Confidence Interval:**\n",
        "\n",
        "Suppose that $X_1, X_2, ..., X_n$ is a sample of size $n$ from a normal distribution having an unknown mean $\\mu$ and a known variance $\\sigma^2$.\n",
        "\n",
        "$X_1, X_2, ..., X_n \\sim N( \\mu, \\sigma^2)$\n",
        "\n",
        "$\\\\ $\n",
        "\n",
        "Significance level = $\\alpha$\n",
        "\n",
        "$\\\\ $\n",
        "\n",
        "$P(-\\ Z_{\\frac{\\alpha}{2}}\\ \\leq\\ \\frac{\\overline{X}-\\mu}{\\frac{\\sigma}{\\sqrt{n}}}\\ \\leq\\ Z_{\\frac{\\alpha}{2}}) = 1-\\alpha$\n",
        "\n",
        "$P(\\overline{X}\\ -\\ Z_{\\frac{\\alpha}{2}} \\frac{\\sigma}{\\sqrt{n}}\\ \\leq\\ \\mu\\ \\leq\\ \\overline{X}\\ +\\ Z_{\\frac{\\alpha}{2}} \\frac{\\sigma}{\\sqrt{n}}) = 1-\\alpha$\n",
        "\n",
        "$\\\\ $\n",
        "\n",
        "Therefore, the $1-\\alpha$ confidence interval for the mean of a normal population is:\n",
        "\n",
        "$[\\overline{X}\\ -\\ Z_{\\frac{\\alpha}{2}} \\frac{\\sigma}{\\sqrt{n}},\\ \\overline{X}\\ +\\ Z_{\\frac{\\alpha}{2}} \\frac{\\sigma}{\\sqrt{n}}]$\n",
        "\n",
        "**B. One-sided Lower Confidence Interval:**\n",
        "\n",
        "Suppose that $X_1, X_2, ..., X_n$ is a sample of size $n$ from a normal distribution having an unknown mean $\\mu$ and a known variance $\\sigma^2$.\n",
        "\n",
        "$X_1, X_2, ..., X_n \\sim N( \\mu, \\sigma^2)$\n",
        "\n",
        "$\\\\ $\n",
        "\n",
        "Significance level = $\\alpha$\n",
        "\n",
        "$\\\\ $\n",
        "\n",
        "$P(-\\infty\\ \\leq\\ \\frac{\\overline{X}-\\mu}{\\frac{\\sigma}{\\sqrt{n}}}\\ \\leq\\ Z_{\\alpha}) = 1-\\alpha$\n",
        "\n",
        "$P(-\\infty\\ \\leq\\ \\mu\\ \\leq\\ \\overline{X}\\ +\\ Z_{\\alpha} \\frac{\\sigma}{\\sqrt{n}}) = 1-\\alpha$\n",
        "\n",
        "$\\\\ $\n",
        "\n",
        "Therefore, the $1-\\alpha$ confidence interval for the mean of a normal population is:\n",
        "\n",
        "$[-\\infty,\\ \\overline{X}\\ +\\ Z_{\\alpha} \\frac{\\sigma}{\\sqrt{n}}]$\n",
        "\n",
        "**C. One-sided Upper Confidence Interval:**\n",
        "\n",
        "Suppose that $X_1, X_2, ..., X_n$ is a sample of size $n$ from a normal distribution having an unknown mean $\\mu$ and a known variance $\\sigma^2$.\n",
        "\n",
        "$X_1, X_2, ..., X_n \\sim N( \\mu, \\sigma^2)$\n",
        "\n",
        "$\\\\ $\n",
        "\n",
        "Significance level = $\\alpha$\n",
        "\n",
        "$\\\\ $\n",
        "\n",
        "$P(-\\ Z_{\\alpha}\\ \\leq\\ \\frac{\\overline{X}-\\mu}{\\frac{\\sigma}{\\sqrt{n}}}\\ \\leq\\ \\infty) = 1-\\alpha$\n",
        "\n",
        "$P(\\overline{X}\\ -\\ Z_{\\alpha} \\frac{\\sigma}{\\sqrt{n}}\\ \\leq\\ \\mu\\ \\leq\\   \\infty) = 1-\\alpha$\n",
        "\n",
        "$\\\\ $\n",
        "\n",
        "Therefore, the $1-\\alpha$ confidence interval for the mean of a normal population is:\n",
        "\n",
        "$[\\overline{X}\\ -\\ Z_{\\alpha} \\frac{\\sigma}{\\sqrt{n}},\\ \\infty]$"
      ],
      "metadata": {
        "id": "2abhnjFXR3Us"
      }
    },
    {
      "cell_type": "markdown",
      "source": [
        "### Code: Known Population Variance"
      ],
      "metadata": {
        "id": "e7kVe-rER63y"
      }
    },
    {
      "cell_type": "code",
      "source": [
        "# Confidence Interval Of Sample Mean For Known Population Variance\n",
        "class confidence_interval_for_mean_with_known_variance:\n",
        "  \"\"\"\n",
        "  Parameters\n",
        "  ----------\n",
        "  population_sd : known standrad deviation of the population\n",
        "  n : optional, number of sample members\n",
        "  c_level : % confidence level\n",
        "  type_t : 'two_sided_confidence', 'lower_confidence', 'upper_confidence'\n",
        "  Sample_mean : mean of the sample\n",
        "  data : optional, if you do not know the Sample_mean and n, just pass the data\n",
        "  \"\"\"\n",
        "  def __init__(self, population_sd, c_level, type_c, Sample_mean = 0., n = 0., data=None):\n",
        "    self.Sample_mean = Sample_mean\n",
        "    self.population_sd = population_sd\n",
        "    self.type_c = type_c\n",
        "    self.n = n\n",
        "    self.c_level = c_level\n",
        "    self.data = data\n",
        "    if data is not None:\n",
        "      self.Sample_mean = np.mean(list(data))\n",
        "      self.n = len(list(data))\n",
        "\n",
        "    confidence_interval_for_mean_with_known_variance.__test(self)\n",
        "\n",
        "  def __test(self):\n",
        "    if self.type_c == 'two_sided_confidence':\n",
        "      c_u = self.Sample_mean + (-norm.ppf((1-self.c_level)/2)) * (self.population_sd/np.sqrt(self.n))\n",
        "      c_l = self.Sample_mean - (-norm.ppf((1-self.c_level)/2)) * (self.population_sd/np.sqrt(self.n))\n",
        "      print(c_u,\" <= μ <= \", c_l)\n",
        "      # display(Latex(f'${c_l} \\leq \\mu \\leq {c_u}$'))\n",
        "    elif self.type_c == 'lower_confidence':\n",
        "      c_u = self.Sample_mean + (-norm.ppf(1-self.c_level)) * (self.population_sd/np.sqrt(self.n))\n",
        "      print(c_u,\" <= μ\")\n",
        "      # display(Latex(f'$\\mu \\leq {c_u}$'))\n",
        "    elif self.type_c == 'upper_confidence':\n",
        "      c_l = self.Sample_mean - (-norm.ppf(1-self.c_level)) * (self.population_sd/np.sqrt(self.n))\n",
        "      print(\"μ <= \", c_l)\n",
        "      # display(Latex(f'${c_l} \\leq \\mu$'))"
      ],
      "metadata": {
        "id": "SGRK0R2mRzr2"
      },
      "execution_count": null,
      "outputs": []
    },
    {
      "cell_type": "code",
      "source": [
        "data = [5, 8.5, 12, 15, 7, 9, 7.5, 6.5, 10.5]\n",
        "confidence_interval_for_mean_with_known_variance(population_sd = 2.9, c_level = 0.95, type_c = 'two_sided_confidence', data=data)\n",
        "confidence_interval_for_mean_with_known_variance(population_sd = 2.9, c_level = 0.95, type_c = 'lower_confidence', data=data)\n",
        "confidence_interval_for_mean_with_known_variance(population_sd = 2.9, c_level = 0.95, type_c = 'upper_confidence', data=data)\n",
        "print(\"Done\")"
      ],
      "metadata": {
        "colab": {
          "base_uri": "https://localhost:8080/"
        },
        "id": "ulo58INiTHHy",
        "outputId": "d20e75fb-743e-42a3-f1cf-5fd9fad25967"
      },
      "execution_count": null,
      "outputs": [
        {
          "output_type": "stream",
          "name": "stdout",
          "text": [
            "10.894631851722052  <= μ <=  7.105368148277948\n",
            "10.590025172719756  <= μ\n",
            "μ <=  7.4099748272802435\n",
            "Done\n"
          ]
        }
      ]
    },
    {
      "cell_type": "markdown",
      "source": [
        "### Theory: Unknown Population Variance"
      ],
      "metadata": {
        "id": "lTYtwyElU5Jl"
      }
    },
    {
      "cell_type": "markdown",
      "source": [
        "**A. Two-sided Confidence Interval:**\n",
        "\n",
        "Suppose that $X_1, X_2, ..., X_n$ is a sample of size $n$ from a normal distribution having an unknown mean $\\mu$ and a unknown variance $\\sigma^2$.\n",
        "\n",
        "$X_1, X_2, ..., X_n \\sim N( \\mu, \\sigma^2)$\n",
        "\n",
        "$\\\\ $\n",
        "\n",
        "Significance level = $\\alpha$\n",
        "\n",
        "$P(-\\ t_{\\frac{\\alpha}{2},n-1}\\ <\\ \\frac{\\overline{X}-\\mu}{\\frac{S}{\\sqrt{n}}} <\\ t_{\\frac{\\alpha}{2},n-1}) = 1-\\alpha$\n",
        "\n",
        "$P(\\overline{X}\\ -\\ t_{\\frac{\\alpha}{2},n-1} \\frac{S}{\\sqrt{n}}\\ <\\ \\mu\\ <\\ \\overline{X}\\ +\\ t_{\\frac{\\alpha}{2},n-1} \\frac{S}{\\sqrt{n}}) = 1- \\alpha$\n",
        "\n",
        "$\\\\ $\n",
        "\n",
        "Therefore, the $1-\\alpha$ confidence interval for the mean of a normal population is:\n",
        "\n",
        "$[\\overline{X}\\ -\\ t_{\\frac{\\alpha}{2},n-1} \\frac{S}{\\sqrt{n}},\\ \\overline{X}\\ +\\ t_{\\frac{\\alpha}{2},n-1} \\frac{S}{\\sqrt{n}}]$\n",
        "\n",
        "**B. One-sided Lower Confidence Interval:**\n",
        "\n",
        "Suppose that $X_1, X_2, ..., X_n$ is a sample of size $n$ from a normal distribution having an unknown mean $\\mu$ and a known variance $\\sigma^2$.\n",
        "\n",
        "$X_1, X_2, ..., X_n \\sim N( \\mu, \\sigma^2)$\n",
        "\n",
        "$\\\\ $\n",
        "\n",
        "Significance level = $\\alpha$\n",
        "\n",
        "$\\\\ $\n",
        "\n",
        "$P(-\\infty\\ \\leq\\ \\frac{\\overline{X}-\\mu}{\\frac{S}{\\sqrt{n}}}\\ \\leq\\ t_{\\alpha,n-1}) = 1-\\alpha$\n",
        "\n",
        "$P(-\\infty\\ \\leq\\ \\mu\\ \\leq\\ \\overline{X}\\ +\\ t_{\\alpha,n-1} \\frac{S}{\\sqrt{n}}) = 1-\\alpha$\n",
        "\n",
        "$\\\\ $\n",
        "\n",
        "Therefore, the $1-\\alpha$ confidence interval for the mean of a normal population is:\n",
        "\n",
        "$[-\\infty,\\ \\overline{X}\\ +\\ t_{\\alpha,n-1} \\frac{S}{\\sqrt{n}}]$\n",
        "\n",
        "**C. One-sided upper Confidence Interval:**\n",
        "\n",
        "Suppose that $X_1, X_2, ..., X_n$ is a sample of size $n$ from a normal distribution having an unknown mean $\\mu$ and a known variance $\\sigma^2$.\n",
        "\n",
        "$X_1, X_2, ..., X_n \\sim N( \\mu, \\sigma^2)$\n",
        "\n",
        "$\\\\ $\n",
        "\n",
        "Significance level = $\\alpha$\n",
        "\n",
        "$\\\\ $\n",
        "\n",
        "$P(-t_{\\alpha,n-1} \\leq\\ \\frac{\\overline{X}-\\mu}{\\frac{S}{\\sqrt{n}}}\\ \\leq\\ \\infty) = 1-\\alpha$\n",
        "\n",
        "$P(\\overline{X}\\ -\\ t_{\\alpha,n-1} \\frac{S}{\\sqrt{n}} \\leq\\ \\mu\\ \\leq\\ \\infty) = 1-\\alpha$\n",
        "\n",
        "$\\\\ $\n",
        "\n",
        "Therefore, the $1-\\alpha$ confidence interval for the mean of a normal population is:\n",
        "\n",
        "$[\\overline{X}\\ -\\ t_{\\alpha,n-1} \\frac{S}{\\sqrt{n}},\\ \\infty]$"
      ],
      "metadata": {
        "id": "fMYWW7LmU6uM"
      }
    },
    {
      "cell_type": "markdown",
      "source": [
        "### Code: Unknown Population Variance"
      ],
      "metadata": {
        "id": "lGOdD9auVVVe"
      }
    },
    {
      "cell_type": "code",
      "source": [
        "class confidence_interval_for_mean_with_unknown_variance:\n",
        "  \"\"\"\n",
        "  Parameters\n",
        "  ----------\n",
        "  n : optional, number of sample members\n",
        "  c_level : % confidence level\n",
        "  type_t : 'two_sided_confidence', 'lower_confidence', 'upper_confidence'\n",
        "  Sample_std : optional, std of the sample\n",
        "  Sample_mean : optional, mean of the sample\n",
        "  data : optional, if you do not know the Sample_mean and n, just pass the data\n",
        "  \"\"\"\n",
        "  def __init__(self, c_level, type_c, Sample_std = 0., Sample_mean = 0., n = 0.,  data=None):\n",
        "    self.Sample_mean = Sample_mean\n",
        "    self.Sample_std = Sample_std\n",
        "    self.type_c = type_c\n",
        "    self.n = n\n",
        "    self.c_level = c_level\n",
        "    self.data = data\n",
        "    if data is not None:\n",
        "      self.Sample_mean = np.mean(list(data))\n",
        "      self.Sample_std = np.std(list(data), ddof=1)\n",
        "      self.n = len(list(data))\n",
        "\n",
        "    confidence_interval_for_mean_with_unknown_variance.__test(self)\n",
        "\n",
        "  def __test(self):\n",
        "    if self.type_c == 'two_sided_confidence':\n",
        "      c_u = self.Sample_mean + (t.isf((1-self.c_level)/2, self.n-1)) * (self.Sample_std/np.sqrt(self.n))\n",
        "      c_l = self.Sample_mean - (t.isf((1-self.c_level)/2, self.n-1)) * (self.Sample_std/np.sqrt(self.n))\n",
        "      print(c_u,\" <= μ <= \", c_l)\n",
        "    elif self.type_c == 'lower_confidence':\n",
        "      c_u = self.Sample_mean + (t.isf(1-self.c_level, self.n-1)) * (self.Sample_std/np.sqrt(self.n))\n",
        "      print(c_u,\" <= μ\")\n",
        "    elif self.type_c == 'upper_confidence':\n",
        "      c_l = self.Sample_mean - (t.isf(1-self.c_level, self.n-1)) * (self.Sample_std/np.sqrt(self.n))\n",
        "      print(\"μ <= \", c_l)"
      ],
      "metadata": {
        "id": "eLjt84-1TKU5"
      },
      "execution_count": 3,
      "outputs": []
    },
    {
      "cell_type": "code",
      "source": [
        "data = [5, 8.5, 12, 15, 7, 9, 7.5, 6.5, 10.5]\n",
        "confidence_interval_for_mean_with_unknown_variance(c_level = 0.95, type_c = 'two_sided_confidence', data=data)\n",
        "confidence_interval_for_mean_with_unknown_variance(c_level = 0.95, type_c = 'lower_confidence', data=data)\n",
        "confidence_interval_for_mean_with_unknown_variance(c_level = 0.95, type_c = 'upper_confidence', data=data)\n",
        "print(\"Done\")"
      ],
      "metadata": {
        "colab": {
          "base_uri": "https://localhost:8080/"
        },
        "id": "9gIIDMFQVl5q",
        "outputId": "0a0c2388-aa7a-4996-f5a7-179d709189a3"
      },
      "execution_count": null,
      "outputs": [
        {
          "output_type": "stream",
          "name": "stdout",
          "text": [
            "11.369194030150679  <= μ <=  6.630805969849321\n",
            "10.910503993616548  <= μ\n",
            "μ <=  7.0894960063834525\n",
            "Done\n"
          ]
        }
      ]
    },
    {
      "cell_type": "code",
      "source": [
        "data = [7.72,9.58,12.38,7.77,11.27,8.80,11.10,7.80,10.17,6.00]\n",
        "confidence_interval_for_mean_with_unknown_variance(c_level = 0.95, type_c = 'two_sided_confidence', data=data)\n",
        "confidence_interval_for_mean_with_unknown_variance(c_level = 0.95, type_c = 'lower_confidence', data=data)\n",
        "confidence_interval_for_mean_with_unknown_variance(c_level = 0.95, type_c = 'upper_confidence', data=data)\n",
        "print(\"Done\")"
      ],
      "metadata": {
        "id": "42JcpzRMVukn",
        "colab": {
          "base_uri": "https://localhost:8080/"
        },
        "outputId": "9e360322-b40f-4404-b787-21ca5a7ff2e1"
      },
      "execution_count": 4,
      "outputs": [
        {
          "output_type": "stream",
          "name": "stdout",
          "text": [
            "10.682803667055117  <= μ <=  7.835196332944884\n",
            "10.41276285902079  <= μ\n",
            "μ <=  8.105237140979211\n",
            "Done\n"
          ]
        }
      ]
    },
    {
      "cell_type": "markdown",
      "source": [],
      "metadata": {
        "id": "7AlYUhygAJ5f"
      }
    },
    {
      "cell_type": "markdown",
      "source": [
        "## Confidence Interval for the Variance of a Normal Population:"
      ],
      "metadata": {
        "id": "rYlv0RH3V7dq"
      }
    },
    {
      "cell_type": "markdown",
      "source": [
        "### Theory: Known Population Mean"
      ],
      "metadata": {
        "id": "LyHR_5IrV7d1"
      }
    },
    {
      "cell_type": "markdown",
      "source": [
        "**A. Two-sided Confidence Interval:**\n",
        "\n",
        "Suppose that $X_1, X_2, ..., X_n$ is a sample of size $n$ from a normal distribution having an known mean $\\mu$ and a unknown variance $\\sigma^2$.\n",
        "\n",
        "$X_1, X_2, ..., X_n \\sim N( \\mu, \\sigma^2)$\n",
        "\n",
        "$\\\\ $\n",
        "\n",
        "$S' = \\sqrt{\\frac{\\sum_{i=1}^n\\ (x_i\\ -\\ \\overline{x})^2}{n}}$\n",
        "\n",
        "$\\\\ $\n",
        "\n",
        "Significance level = $\\alpha$\n",
        "\n",
        "$\\ \\chi^2_{1-\\frac{\\alpha}{2}, n}\\ \\leq\\ \\frac{(n)\\ S'^2}{\\sigma^2} \\ \\leq \\chi^2_{\\frac{\\alpha}{2}, n} $\n",
        "\n",
        "$\\ \\frac{(n)\\ S'^2}{\\chi^2_{\\frac{\\alpha}{2}, n}} \\leq\\ \\sigma^2 \\leq\\ \\frac{(n)\\ S'^2}{\\chi^2_{1-\\frac{\\alpha}{2}, n}}$\n",
        "\n",
        "$\\ \\sqrt{\\frac{(n)\\ S'^2}{\\chi^2_{\\frac{\\alpha}{2}, n}}} \\leq\\ \\sigma \\leq\\ \\sqrt{\\frac{(n)\\ S'^2}{\\chi^2_{1-\\frac{\\alpha}{2}, n}}}$\n",
        "\n",
        "$\\\\ $\n",
        "\n",
        "Therefore, the $1-\\alpha$ confidence interval for the variance of a normal population is:\n",
        "\n",
        "$[\\frac{(n)\\ S'^2}{\\chi^2_{\\frac{\\alpha}{2}, n}},\\ \\frac{(n)\\ S'^2}{\\chi^2_{1-\\frac{\\alpha}{2}, n}}]$\n",
        "\n",
        "and the $1-\\alpha$ confidence interval for the standard deviation of a normal population is:\n",
        "\n",
        "$[\\sqrt{\\frac{(n)\\ S'^2}{\\chi^2_{\\frac{\\alpha}{2}, n}}},\\ \\sqrt{\\frac{(n)\\ S'^2}{\\chi^2_{1-\\frac{\\alpha}{2}, n}}}]$\n",
        "\n",
        "**B. One-sided Lower Confidence Interval:**\n",
        "\n",
        "Suppose that $X_1, X_2, ..., X_n$ is a sample of size $n$ from a normal distribution having an known mean $\\mu$ and a unknown variance $\\sigma^2$.\n",
        "\n",
        "$X_1, X_2, ..., X_n \\sim N( \\mu, \\sigma^2)$\n",
        "\n",
        "$\\\\ $\n",
        "\n",
        "Significance level = $\\alpha$\n",
        "\n",
        "$\\ 0\\ \\leq\\ \\frac{(n)\\ S'^2}{\\sigma^2} \\ \\leq \\chi^2_{1-\\alpha, n} $\n",
        "\n",
        "$\\ 0 \\leq\\ \\sigma^2 \\leq\\ \\frac{(n)\\ S'^2}{\\chi^2_{1-\\alpha, n}}$\n",
        "\n",
        "$\\ 0 \\leq\\ \\sigma \\leq\\ \\sqrt{\\frac{(n)\\ S'^2}{\\chi^2_{1-\\alpha, n}}}$\n",
        "\n",
        "$\\\\ $\n",
        "\n",
        "Therefore, the $1-\\alpha$ confidence interval for the variance of a normal population is:\n",
        "\n",
        "$[0,\\ \\frac{(n)\\ S'^2}{\\chi^2_{1-\\frac{\\alpha}{2}, n}}]$\n",
        "\n",
        "and the $1-\\alpha$ confidence interval for the standard deviation of a normal population is:\n",
        "\n",
        "$[0,\\ \\sqrt{\\frac{(n)\\ S'^2}{\\chi^2_{1-\\alpha, n}}}]$\n",
        "\n",
        "\n",
        "**C. One-sided Upper Confidence Interval:**\n",
        "\n",
        "Suppose that $X_1, X_2, ..., X_n$ is a sample of size $n$ from a normal distribution having an known mean $\\mu$ and a unknown variance $\\sigma^2$.\n",
        "\n",
        "$X_1, X_2, ..., X_n \\sim N( \\mu, \\sigma^2)$\n",
        "\n",
        "$\\\\ $\n",
        "\n",
        "Significance level = $\\alpha$\n",
        "\n",
        "$\\ \\chi^2_{1-\\alpha, n}\\ \\leq\\ \\frac{(n)\\ S'^2}{\\sigma^2} \\ \\leq \\infty $\n",
        "\n",
        "$\\ \\frac{(n)\\ S'^2}{\\chi^2_{\\alpha, n}} \\leq\\ \\sigma^2 \\leq\\ \\infty$\n",
        "\n",
        "$\\ \\sqrt{\\frac{(n)\\ S'^2}{\\chi^2_{\\alpha, n}}} \\leq\\ \\sigma \\leq\\ \\infty$\n",
        "\n",
        "$\\\\ $\n",
        "\n",
        "Therefore, the $1-\\alpha$ confidence interval for the variance of a normal population is:\n",
        "\n",
        "$[\\frac{(n)\\ S'^2}{\\chi^2_{\\alpha, n}},\\ \\infty]$\n",
        "\n",
        "and the $1-\\alpha$ confidence interval for the standard deviation of a normal population is:\n",
        "\n",
        "$[\\sqrt{\\frac{(n)\\ S'^2}{\\chi^2_{\\alpha, n}}},\\ \\infty]$"
      ],
      "metadata": {
        "id": "smYOcrLEV7d1"
      }
    },
    {
      "cell_type": "markdown",
      "source": [
        "### Code: Known Population Mean"
      ],
      "metadata": {
        "id": "FA3HlaDwV7d2"
      }
    },
    {
      "cell_type": "code",
      "source": [
        "# Confidence Interval Of Sample Variance For Known Population Mean\n",
        "class confidence_interval_for_var_with_known_mean:\n",
        "  \"\"\"\n",
        "  Parameters\n",
        "  ----------\n",
        "  population_mean : known mean of the population\n",
        "  Sample_var : optional, variance of the sample\n",
        "  n : optional, number of sample members\n",
        "  c_level : % confidence level\n",
        "  type_t : 'two_sided_confidence', 'lower_confidence', 'upper_confidence'\n",
        "  data : optional, if you do not know the Sample_mean and n, just pass the data\n",
        "  \"\"\"\n",
        "  def __init__(self, population_mean, c_level, type_c, Sample_var = 0., n = 0., data=None):\n",
        "    self.population_mean = population_mean\n",
        "    self.type_c = type_c\n",
        "    self.n = n\n",
        "    self.Sample_var = Sample_var\n",
        "    self.c_level = c_level\n",
        "    self.data = data\n",
        "    if data is not None:\n",
        "      self.n = len(list(data))\n",
        "      self.Sample_var = np.std(list(data), ddof=1)**2\n",
        "\n",
        "    confidence_interval_for_var_with_known_mean.__test(self)\n",
        "\n",
        "  def __test(self):\n",
        "    if self.type_c == 'two_sided_confidence':\n",
        "      alpha = 1 - self.c_level\n",
        "      c_u = ((self.n-1) * self.Sample_var) / chi2.isf(1-(alpha/2), self.n-1)\n",
        "      c_l = ((self.n-1) * self.Sample_var) / chi2.isf(alpha/2, self.n-1)\n",
        "      c_u_r = np.sqrt(c_u)\n",
        "      c_l_r = np.sqrt(c_l)\n",
        "      print(c_l_r,\" <= σ <= \", c_u_r)\n",
        "    elif self.type_c == 'lower_confidence':\n",
        "      alpha = 1 - self.c_level\n",
        "      c_u = ((self.n-1) * self.Sample_var) / chi2.isf(1-alpha, self.n-1)\n",
        "      c_u_r = np.sqrt(c_u)\n",
        "      print(\"σ <= \", c_u_r)\n",
        "    elif self.type_c == 'upper_confidence':\n",
        "      alpha = 1 - self.c_level\n",
        "      c_l = ((self.n-1) * self.Sample_var) / chi2.isf((alpha), self.n-1)\n",
        "      c_l_r = np.sqrt(c_l)\n",
        "      print(c_l_r,\" <= σ\")"
      ],
      "metadata": {
        "id": "wIZOM9UQZOQV"
      },
      "execution_count": null,
      "outputs": []
    },
    {
      "cell_type": "code",
      "source": [
        "data = [5, 8.5, 12, 15, 7, 9, 7.5, 6.5, 10.5]\n",
        "confidence_interval_for_var_with_known_mean(population_mean = 9.0, c_level = 0.9, type_c = 'two_sided_confidence', data=data)\n",
        "confidence_interval_for_var_with_known_mean(population_mean = 9.0, c_level = 0.9, type_c = 'lower_confidence', data=data)\n",
        "confidence_interval_for_var_with_known_mean(population_mean = 9.0, c_level = 0.9, type_c = 'upper_confidence', data=data)\n",
        "print(\"Done\")"
      ],
      "metadata": {
        "colab": {
          "base_uri": "https://localhost:8080/"
        },
        "outputId": "f7919db9-bf30-44e4-b4dd-85d7a8c2705c",
        "id": "UbimWAb8V7d3"
      },
      "execution_count": null,
      "outputs": [
        {
          "output_type": "stream",
          "name": "stdout",
          "text": [
            "2.2138006925142597  <= σ <=  5.273705093927732\n",
            "σ <=  4.666838371858391\n",
            "2.3849436008794878  <= σ\n",
            "Done\n"
          ]
        }
      ]
    },
    {
      "cell_type": "markdown",
      "source": [
        "### Theory: Unkown Population Mean"
      ],
      "metadata": {
        "id": "zTuSIPDXaI0d"
      }
    },
    {
      "cell_type": "markdown",
      "source": [
        "**A. Two-sided Confidence Interval:**\n",
        "\n",
        "Suppose that $X_1, X_2, ..., X_n$ is a sample of size $n$ from a normal distribution having an unknown mean $\\mu$ and a unknown variance $\\sigma^2$.\n",
        "\n",
        "$X_1, X_2, ..., X_n \\sim N( \\mu, \\sigma^2)$\n",
        "\n",
        "$\\\\ $\n",
        "\n",
        "Significance level = $\\alpha$\n",
        "\n",
        "$\\ \\chi^2_{1-\\frac{\\alpha}{2}, n-1}\\ \\leq\\ \\frac{(n-1)\\ S^2}{\\sigma^2} \\ \\leq \\chi^2_{\\frac{\\alpha}{2}, n-1} $\n",
        "\n",
        "$\\ \\frac{(n-1)\\ S^2}{\\chi^2_{\\frac{\\alpha}{2}, n-1}} \\leq\\ \\sigma^2 \\leq\\ \\frac{(n-1)\\ S^2}{\\chi^2_{1-\\frac{\\alpha}{2}, n-1}}$\n",
        "\n",
        "$\\ \\sqrt{\\frac{(n-1)\\ S^2}{\\chi^2_{\\frac{\\alpha}{2}, n-1}}} \\leq\\ \\sigma \\leq\\ \\sqrt{\\frac{(n-1)\\ S^2}{\\chi^2_{1-\\frac{\\alpha}{2}, n-1}}}$\n",
        "\n",
        "$\\\\ $\n",
        "\n",
        "Therefore, the $1-\\alpha$ confidence interval for the variance of a normal population is:\n",
        "\n",
        "$[\\frac{(n-1)\\ S^2}{\\chi^2_{\\frac{\\alpha}{2}, n-1}},\\ \\frac{(n-1)\\ S^2}{\\chi^2_{1-\\frac{\\alpha}{2}, n-1}}]$\n",
        "\n",
        "and the $1-\\alpha$ confidence interval for the standard deviation of a normal population is:\n",
        "\n",
        "$[\\sqrt{\\frac{(n-1)\\ S^2}{\\chi^2_{\\frac{\\alpha}{2}, n-1}}},\\ \\sqrt{\\frac{(n-1)\\ S^2}{\\chi^2_{1-\\frac{\\alpha}{2}, n-1}}}]$\n",
        "\n",
        "**B. One-sided Lower Confidence Interval:**\n",
        "\n",
        "Suppose that $X_1, X_2, ..., X_n$ is a sample of size $n$ from a normal distribution having an unknown mean $\\mu$ and a unknown variance $\\sigma^2$.\n",
        "\n",
        "$X_1, X_2, ..., X_n \\sim N( \\mu, \\sigma^2)$\n",
        "\n",
        "$\\\\ $\n",
        "\n",
        "Significance level = $\\alpha$\n",
        "\n",
        "$\\ 0 \\leq\\ \\sigma^2 \\leq\\ \\frac{(n-1)\\ S^2}{\\chi^2_{1-\\alpha, n-1}}$\n",
        "\n",
        "$\\ 0 \\leq\\ \\sigma \\leq\\ \\sqrt{\\frac{(n-1)\\ S^2}{\\chi^2_{1-\\alpha, n-1}}}$\n",
        "\n",
        "$\\\\ $\n",
        "\n",
        "Therefore, the $1-\\alpha$ confidence interval for the variance of a normal population is:\n",
        "\n",
        "$[0,\\ \\frac{(n-1)\\ S^2}{\\chi^2_{1-\\frac{\\alpha}{2}, n-1}}]$\n",
        "\n",
        "and the $1-\\alpha$ confidence interval for the standard deviation of a normal population is:\n",
        "\n",
        "$[0,\\ \\sqrt{\\frac{(n-1)\\ S^2}{\\chi^2_{1-\\alpha, n-1}}}]$\n",
        "\n",
        "**C. One-sided Upper Confidence Interval:**\n",
        "\n",
        "Suppose that $X_1, X_2, ..., X_n$ is a sample of size $n$ from a normal distribution having an unknown mean $\\mu$ and a unknown variance $\\sigma^2$.\n",
        "\n",
        "$X_1, X_2, ..., X_n \\sim N( \\mu, \\sigma^2)$\n",
        "\n",
        "$\\\\ $\n",
        "\n",
        "Significance level = $\\alpha$\n",
        "\n",
        "$\\ \\frac{(n-1)\\ S^2}{\\chi^2_{\\alpha, n-1}} \\leq\\ \\sigma^2 \\leq\\ \\infty$\n",
        "\n",
        "$\\ \\sqrt{\\frac{(n-1)\\ S^2}{\\chi^2_{\\alpha, n-1}}} \\leq\\ \\sigma \\leq\\ \\infty$\n",
        "\n",
        "$\\\\ $\n",
        "\n",
        "Therefore, the $1-\\alpha$ confidence interval for the variance of a normal population is:\n",
        "\n",
        "$[\\frac{(n-1)\\ S^2}{\\chi^2_{\\alpha, n-1}},\\ \\infty]$\n",
        "\n",
        "and the $1-\\alpha$ confidence interval for the standard deviation of a normal population is:\n",
        "\n",
        "$[\\sqrt{\\frac{(n-1)\\ S^2}{\\chi^2_{\\alpha, n-1}}},\\ \\infty]$"
      ],
      "metadata": {
        "id": "LZ87aaOXaI0q"
      }
    },
    {
      "cell_type": "markdown",
      "source": [
        "### Code: Unknown Population Mean"
      ],
      "metadata": {
        "id": "N1r97AYvaI0q"
      }
    },
    {
      "cell_type": "code",
      "source": [
        "# Confidence Interval Of Sample Variance For Unknown Population Mean\n",
        "class confidence_interval_for_var_with_unknown_mean:\n",
        "  \"\"\"\n",
        "  Parameters\n",
        "  ----------\n",
        "  population_sd : known standrad deviation of the population\n",
        "  Sample_var : optional, variance of the sample\n",
        "  n : optional, number of sample members\n",
        "  c_level : % confidence level\n",
        "  type_t : 'two_sided_confidence', 'lower_confidence', 'upper_confidence'\n",
        "  data : optional, if you do not know the Sample_mean and n, just pass the data\n",
        "  \"\"\"\n",
        "  def __init__(self, c_level, type_c, Sample_var = 0., n = 0., data=None):\n",
        "    self.type_c = type_c\n",
        "    self.n = n\n",
        "    self.Sample_var = Sample_var\n",
        "    self.c_level = c_level\n",
        "    self.data = data\n",
        "    if data is not None:\n",
        "      self.n = len(list(data))\n",
        "      self.Sample_var = np.std(list(data), ddof=1)**2\n",
        "\n",
        "    confidence_interval_for_var_with_unknown_mean.__test(self)\n",
        "\n",
        "  def __test(self):\n",
        "    if self.type_c == 'two_sided_confidence':\n",
        "      alpha = 1 - self.c_level\n",
        "      c_u = ((self.n-1) * self.Sample_var) / chi2.isf(1-(alpha/2), self.n-1)\n",
        "      c_l = ((self.n-1) * self.Sample_var) / chi2.isf(alpha/2, self.n-1)\n",
        "      c_u_r = np.sqrt(c_u)\n",
        "      c_l_r = np.sqrt(c_l)\n",
        "      print(c_l_r,\" <= σ <= \", c_u_r)\n",
        "    elif self.type_c == 'lower_confidence':\n",
        "      alpha = 1 - self.c_level\n",
        "      c_u = ((self.n-1) * self.Sample_var) / chi2.isf(1-alpha, self.n-1)\n",
        "      c_u_r = np.sqrt(c_u)\n",
        "      print(\"σ <= \", c_u_r)\n",
        "    elif self.type_c == 'upper_confidence':\n",
        "      alpha = 1 - self.c_level\n",
        "      c_l = ((self.n-1) * self.Sample_var) / chi2.isf((alpha), self.n-1)\n",
        "      c_l_r = np.sqrt(c_l)\n",
        "      print(c_l_r,\" <= σ\")"
      ],
      "metadata": {
        "id": "SZ8yWNjDacG2"
      },
      "execution_count": null,
      "outputs": []
    },
    {
      "cell_type": "code",
      "source": [
        "data = [5, 8.5, 12, 15, 7, 9, 7.5, 6.5, 10.5]\n",
        "confidence_interval_for_var_with_unknown_mean(c_level = 0.9, type_c = 'two_sided_confidence', data=data)\n",
        "confidence_interval_for_var_with_unknown_mean(c_level = 0.9, type_c = 'lower_confidence', data=data)\n",
        "confidence_interval_for_var_with_unknown_mean(c_level = 0.9, type_c = 'upper_confidence', data=data)\n",
        "print(\"Done\")"
      ],
      "metadata": {
        "colab": {
          "base_uri": "https://localhost:8080/"
        },
        "outputId": "0ff8dbb5-1994-4866-8d02-004efa5fb29b",
        "id": "NRMASyeVaI0r"
      },
      "execution_count": null,
      "outputs": [
        {
          "output_type": "stream",
          "name": "stdout",
          "text": [
            "2.2138006925142597  <= σ <=  5.273705093927732\n",
            "σ <=  4.666838371858391\n",
            "2.3849436008794878  <= σ\n",
            "Done\n"
          ]
        }
      ]
    },
    {
      "cell_type": "code",
      "source": [],
      "metadata": {
        "id": "GSpKQP61a20-"
      },
      "execution_count": null,
      "outputs": []
    },
    {
      "cell_type": "markdown",
      "source": [
        "# Confidence Intervals For 2 Normal Distributions"
      ],
      "metadata": {
        "id": "7ro_G8CKa3Ab"
      }
    },
    {
      "cell_type": "code",
      "source": [
        "from scipy.stats import norm\n",
        "from scipy.stats import chi2\n",
        "from scipy.stats import t\n",
        "from scipy.stats import f\n",
        "from IPython.display import display, Latex"
      ],
      "metadata": {
        "id": "uL4tfXpOdIIp"
      },
      "execution_count": null,
      "outputs": []
    },
    {
      "cell_type": "markdown",
      "source": [
        "## Confidence Interval for the Difference in Means of Two Normal Populations"
      ],
      "metadata": {
        "id": "9K8yLAU-cnwo"
      }
    },
    {
      "cell_type": "code",
      "source": [
        "# Known Variances\n",
        "class confidence_interval_for_two_mean_with_known_variances:\n",
        "  \"\"\"\n",
        "  Parameters\n",
        "  ----------\n",
        "  population_sd1 : known standrad deviation of the population1\n",
        "  population_sd2 : known standrad deviation of the population2\n",
        "  n1 : optional, number of sample1 members\n",
        "  n2 : optional, number of sample2 members\n",
        "  c_level : % confidence level\n",
        "  type_t : 'two_sided_confidence', 'lower_confidence', 'upper_confidence'\n",
        "  Sample_mean1 : optional, mean of the sample1\n",
        "  Sample_mean2 : optional, mean of the sample2\n",
        "  data : optional, if you do not know the Sample_mean and n, just pass the data\n",
        "  \"\"\"\n",
        "  def __init__(self, population_sd1, population_sd2, c_level, type_c, Sample_mean1 = 0., Sample_mean2 = 0., n1 = 0., n2 = 0., data1=None, data2=None):\n",
        "    self.Sample_mean1 = Sample_mean1\n",
        "    self.Sample_mean2 = Sample_mean2\n",
        "    self.population_sd1 = population_sd1\n",
        "    self.population_sd2 = population_sd2\n",
        "    self.type_c = type_c\n",
        "    self.n1 = n1\n",
        "    self.n2 = n2\n",
        "    self.c_level = c_level\n",
        "    self.data1 = data1\n",
        "    self.data2 = data2\n",
        "    if data1 is not None:\n",
        "      self.Sample_mean1 = np.mean(list(data1))\n",
        "      self.n1 = len(list(data1))\n",
        "    if data2 is not None:\n",
        "      self.Sample_mean2 = np.mean(list(data2))\n",
        "      self.n2 = len(list(data2))\n",
        "\n",
        "    confidence_interval_for_two_mean_with_known_variances.__test(self)\n",
        "\n",
        "  def __test(self):\n",
        "    if self.type_c == 'two_sided_confidence':\n",
        "      c_u = self.Sample_mean1 - self.Sample_mean2 + (-norm.ppf((1-self.c_level)/2)) * np.sqrt(self.population_sd1**2/self.n1 + self.population_sd2**2/self.n2)\n",
        "      c_l = self.Sample_mean1 - self.Sample_mean2 - (-norm.ppf((1-self.c_level)/2)) * np.sqrt(self.population_sd1**2/self.n1 + self.population_sd2**2/self.n2)\n",
        "      display(Latex(f'${c_l} \\leq \\mu_x - \\mu_y \\leq {c_u}$'))\n",
        "    elif self.type_c == 'lower_confidence':\n",
        "      c_u = self.Sample_mean1 - self.Sample_mean2 + (-norm.ppf(1-self.c_level)) * np.sqrt(self.population_sd1**2/self.n1 + self.population_sd2**2/self.n2)\n",
        "      display(Latex(f'$\\mu_x - \\mu_y \\leq {c_u}$'))\n",
        "    elif self.type_c == 'upper_confidence':\n",
        "      c_l = self.Sample_mean1 - self.Sample_mean2 - (-norm.ppf(1-self.c_level)) * np.sqrt(self.population_sd1**2/self.n1 + self.population_sd2**2/self.n2)\n",
        "      display(Latex(f'${c_l} \\leq \\mu_x - \\mu_y$'))"
      ],
      "metadata": {
        "id": "T-4gYJiKcdKY"
      },
      "execution_count": null,
      "outputs": []
    },
    {
      "cell_type": "code",
      "source": [
        "# Unknown but Equal Variances\n",
        "class confidence_interval_for_two_mean_with_unknown__but_equal_variances:\n",
        "  \"\"\"\n",
        "  Parameters\n",
        "  ----------\n",
        "  n1 : optional, number of sample1 members\n",
        "  n2 : optional, number of sample2 members\n",
        "  c_level : % confidence level\n",
        "  type_t : 'two_sided_confidence', 'lower_confidence', 'upper_confidence'\n",
        "  Sample_mean1 : optional, mean of the sample1\n",
        "  Sample_mean2 : optional, mean of the sample2\n",
        "  S1 : optional, std of the sample1\n",
        "  S2 : optional, std of the sample2\n",
        "  data : optional, if you do not know the Sample_mean and n, just pass the data\n",
        "  \"\"\"\n",
        "  def __init__(self, c_level, type_c, Sample_mean1 = 0., S1 = 0., S2 = 0., Sample_mean2 = 0., n1 = 0., n2 = 0., data1=None, data2=None):\n",
        "    self.Sample_mean1 = Sample_mean1\n",
        "    self.Sample_mean2 = Sample_mean2\n",
        "    self.S1 = S1\n",
        "    self.S2 = S2\n",
        "    self.type_c = type_c\n",
        "    self.n1 = n1\n",
        "    self.n2 = n2\n",
        "    self.c_level = c_level\n",
        "    self.data1 = data1\n",
        "    self.data2 = data2\n",
        "    if data1 is not None:\n",
        "      self.Sample_mean1 = np.mean(list(data1))\n",
        "      self.n1 = len(list(data1))\n",
        "      self.S1 = np.std(list(data1), ddof = 1)\n",
        "    if data2 is not None:\n",
        "      self.Sample_mean2 = np.mean(list(data2))\n",
        "      self.n2 = len(list(data2))\n",
        "      self.S2 = np.std(list(data2), ddof = 1)\n",
        "\n",
        "    self.SP2 = ((self.n1-1)*(self.S1**2) + (self.n2-1)*(self.S2**2)) / (self.n1+self.n2-2)\n",
        "\n",
        "    confidence_interval_for_two_mean_with_unknown__but_equal_variances.__test(self)\n",
        "\n",
        "  def __test(self):\n",
        "    if self.type_c == 'two_sided_confidence':\n",
        "      alpha = 1-self.c_level\n",
        "      c_u = self.Sample_mean1 - self.Sample_mean2 + (t.isf(alpha/2, df = self.n1+self.n2-2)) * (np.sqrt(self.SP2)*np.sqrt(1/self.n1+1/self.n2))\n",
        "      c_l = self.Sample_mean1 - self.Sample_mean2 - (t.isf(alpha/2, df = self.n1+self.n2-2)) * (np.sqrt(self.SP2)*np.sqrt(1/self.n1+1/self.n2))\n",
        "      display(Latex(f'${c_l} \\leq \\mu_x - \\mu_y \\leq {c_u}$'))\n",
        "    elif self.type_c == 'lower_confidence':\n",
        "      alpha = 1-self.c_level\n",
        "      c_u = self.Sample_mean1 - self.Sample_mean2 + (t.isf(alpha, df = self.n1+self.n2-2)) * (np.sqrt(self.SP2)*np.sqrt(1/self.n1+1/self.n2))\n",
        "      display(Latex(f'$\\mu_x - \\mu_y \\leq {c_u}$'))\n",
        "    elif self.type_c == 'upper_confidence':\n",
        "      alpha = 1-self.c_level\n",
        "      c_l = self.Sample_mean1 - self.Sample_mean2 - (t.isf(alpha, df = self.n1+self.n2-2)) * (np.sqrt(self.SP2)*np.sqrt(1/self.n1+1/self.n2))\n",
        "      display(Latex(f'${c_l} \\leq \\mu_x - \\mu_y$'))"
      ],
      "metadata": {
        "id": "TObKCCuZcx7U"
      },
      "execution_count": null,
      "outputs": []
    },
    {
      "cell_type": "markdown",
      "source": [
        "## Confidence Interval for the Ratio of Variances of Two Normal Populations"
      ],
      "metadata": {
        "id": "4CN_y4Mfc_T1"
      }
    },
    {
      "cell_type": "code",
      "source": [
        "class confidence_interval_for_ratio_variances:\n",
        "  \"\"\"\n",
        "  Parameters\n",
        "  ----------\n",
        "  n1 : optional, number of sample1 members\n",
        "  n2 : optional, number of sample2 members\n",
        "  c_level : % confidence level\n",
        "  type_t : 'two_sided_confidence', 'lower_confidence', 'upper_confidence'\n",
        "  Sample_mean1 : optional, mean of the sample1\n",
        "  Sample_mean2 : optional, mean of the sample2\n",
        "  S1 : optional, std of the sample1\n",
        "  S2 : optional, std of the sample2\n",
        "  data : optional, if you do not know the Sample_mean and n, just pass the data\n",
        "  \"\"\"\n",
        "  def __init__(self, c_level, type_c, S1 = 0., S2 = 0., n1 = 0., n2 = 0., data1=None, data2=None):\n",
        "    self.S1 = S1\n",
        "    self.S2 = S2\n",
        "    self.type_c = type_c\n",
        "    self.n1 = n1\n",
        "    self.n2 = n2\n",
        "    self.c_level = c_level\n",
        "    self.data1 = data1\n",
        "    self.data2 = data2\n",
        "    if data1 is not None:\n",
        "      self.n1 = len(list(data1))\n",
        "      self.S1 = np.std(list(data1), ddof = 1)\n",
        "    if data2 is not None:\n",
        "      self.n2 = len(list(data2))\n",
        "      self.S2 = np.std(list(data2), ddof = 1)\n",
        "\n",
        "    confidence_interval_for_ratio_variances.__test(self)\n",
        "\n",
        "  def __test(self):\n",
        "    if self.type_c == 'two_sided_confidence':\n",
        "      alpha = 1-self.c_level\n",
        "      c_u = ((self.S1**2)/(self.S2**2)) * (1/f.isf(1-alpha/2, self.n1-1, self.n1-1))\n",
        "      c_l = ((self.S1**2)/(self.S2**2)) * (1/f.isf(alpha/2, self.n1-1, self.n1-1))\n",
        "      c_u_r = np.sqrt(c_u)\n",
        "      c_l_r = np.sqrt(c_l)\n",
        "      display(Latex(f'${c_l} \\leq \\sigma^2_x/ \\sigma^2_y \\leq {c_u}$'))\n",
        "      display(Latex(f'${c_l_r} \\leq \\sigma_x/ \\sigma_y \\leq {c_u_r}$'))\n",
        "    elif self.type_c == 'lower_confidence':\n",
        "      alpha = 1-self.c_level\n",
        "      c_u = ((self.S1**2)/(self.S2**2)) * (1/f.isf(1-alpha, self.n1-1, self.n1-1))\n",
        "      c_u_r = np.sqrt(c_u)\n",
        "      display(Latex(f'$\\sigma^2_x/ \\sigma^2_y \\leq {c_u}$'))\n",
        "      display(Latex(f'$\\sigma_x/ \\sigma_y \\leq {c_u_r}$'))\n",
        "    elif self.type_c == 'upper_confidence':\n",
        "      alpha = 1-self.c_level\n",
        "      c_l = ((self.S1**2)/(self.S2**2)) * (1/f.isf(alpha, self.n1-1, self.n1-1))\n",
        "      c_l_r = np.sqrt(c_l)\n",
        "      display(Latex(f'${c_l} \\leq \\sigma^2_x/ \\sigma^2_y$'))\n",
        "      display(Latex(f'${c_l} \\leq \\sigma_x/ \\sigma_y$'))"
      ],
      "metadata": {
        "id": "Z9sM0pAudBjV"
      },
      "execution_count": null,
      "outputs": []
    },
    {
      "cell_type": "code",
      "source": [],
      "metadata": {
        "id": "m1-sE4e0dEh8"
      },
      "execution_count": null,
      "outputs": []
    },
    {
      "cell_type": "markdown",
      "source": [
        "# Others"
      ],
      "metadata": {
        "id": "ZlXw_Q_CcdU0"
      }
    },
    {
      "cell_type": "code",
      "source": [],
      "metadata": {
        "id": "AaeSlUumcdfw"
      },
      "execution_count": null,
      "outputs": []
    },
    {
      "cell_type": "code",
      "source": [],
      "metadata": {
        "id": "Mj78U39Ba37d"
      },
      "execution_count": null,
      "outputs": []
    }
  ]
}